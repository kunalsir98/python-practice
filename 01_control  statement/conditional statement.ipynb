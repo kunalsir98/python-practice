{
 "cells": [
  {
   "cell_type": "code",
   "execution_count": 1,
   "metadata": {},
   "outputs": [
    {
     "name": "stdout",
     "output_type": "stream",
     "text": [
      "you are right\n"
     ]
    }
   ],
   "source": [
    "#if statement\n",
    "\n",
    "a=20\n",
    "\n",
    "if a >=18:\n",
    "    print(\"you are right\")"
   ]
  },
  {
   "cell_type": "code",
   "execution_count": 2,
   "metadata": {},
   "outputs": [
    {
     "name": "stdout",
     "output_type": "stream",
     "text": [
      "you are a minor\n"
     ]
    }
   ],
   "source": [
    "#else \n",
    "#the else statement will execute when condition in if statement is false\n",
    "age=16\n",
    "\n",
    "if age >= 18:\n",
    "    print(\"you are eligible to vote\")\n",
    "else:\n",
    "    print(\"you are a minor\")    "
   ]
  },
  {
   "cell_type": "code",
   "execution_count": 4,
   "metadata": {},
   "outputs": [
    {
     "name": "stdout",
     "output_type": "stream",
     "text": [
      "you are an adult\n"
     ]
    }
   ],
   "source": [
    "#elif \n",
    "#it allows you to check multiple conditions \n",
    "\n",
    "age=20\n",
    "\n",
    "if age<13:\n",
    "    print(\"you are a child\")\n",
    "\n",
    "elif age<18:\n",
    "    print(\"you are a teenager\")\n",
    "\n",
    "else:\n",
    "    print(\"you are an adult\")    \n",
    "\n"
   ]
  },
  {
   "cell_type": "code",
   "execution_count": 7,
   "metadata": {},
   "outputs": [
    {
     "name": "stdout",
     "output_type": "stream",
     "text": [
      "this is an positive number\n",
      "this is an even number\n"
     ]
    }
   ],
   "source": [
    "#Nested conditional statements \n",
    "#check the number even or odd\n",
    "\n",
    "num=int(input(\"enter the number\"))\n",
    "\n",
    "if num>0:\n",
    "    print(\"this is an positive number\")\n",
    "    if num%2==0:\n",
    "        print(\"this is an even number\")\n",
    "    else:\n",
    "        print(\"the number is odd\")    \n",
    "\n",
    "else:\n",
    "    (\"print the number is zero or negative\")    \n",
    "        \n",
    "\n",
    "    \n",
    "\n",
    "\n",
    "\n"
   ]
  },
  {
   "cell_type": "code",
   "execution_count": null,
   "metadata": {},
   "outputs": [],
   "source": []
  },
  {
   "cell_type": "code",
   "execution_count": null,
   "metadata": {},
   "outputs": [],
   "source": []
  }
 ],
 "metadata": {
  "kernelspec": {
   "display_name": "Python 3",
   "language": "python",
   "name": "python3"
  },
  "language_info": {
   "codemirror_mode": {
    "name": "ipython",
    "version": 3
   },
   "file_extension": ".py",
   "mimetype": "text/x-python",
   "name": "python",
   "nbconvert_exporter": "python",
   "pygments_lexer": "ipython3",
   "version": "3.8.19"
  }
 },
 "nbformat": 4,
 "nbformat_minor": 2
}
